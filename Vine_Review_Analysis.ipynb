{
  "nbformat": 4,
  "nbformat_minor": 0,
  "metadata": {
    "colab": {
      "provenance": [],
      "collapsed_sections": []
    },
    "kernelspec": {
      "name": "python3",
      "display_name": "Python 3"
    },
    "language_info": {
      "name": "python"
    }
  },
  "cells": [
    {
      "cell_type": "code",
      "execution_count": 2,
      "metadata": {
        "colab": {
          "base_uri": "https://localhost:8080/"
        },
        "id": "iUBJMFAyNS6z",
        "outputId": "4e47bb60-cabe-4746-e953-42a28643fdee"
      },
      "outputs": [
        {
          "output_type": "stream",
          "name": "stdout",
          "text": [
            "Hit:1 https://cloud.r-project.org/bin/linux/ubuntu bionic-cran40/ InRelease\n",
            "Hit:2 http://security.ubuntu.com/ubuntu bionic-security InRelease\n",
            "Ign:3 https://developer.download.nvidia.com/compute/machine-learning/repos/ubuntu1804/x86_64  InRelease\n",
            "Hit:4 https://developer.download.nvidia.com/compute/cuda/repos/ubuntu1804/x86_64  InRelease\n",
            "Hit:5 https://developer.download.nvidia.com/compute/machine-learning/repos/ubuntu1804/x86_64  Release\n",
            "Hit:6 http://archive.ubuntu.com/ubuntu bionic InRelease\n",
            "Get:7 http://ppa.launchpad.net/c2d4u.team/c2d4u4.0+/ubuntu bionic InRelease [15.9 kB]\n",
            "Hit:8 http://archive.ubuntu.com/ubuntu bionic-updates InRelease\n",
            "Hit:9 http://archive.ubuntu.com/ubuntu bionic-backports InRelease\n",
            "Hit:10 http://ppa.launchpad.net/cran/libgit2/ubuntu bionic InRelease\n",
            "Hit:11 http://ppa.launchpad.net/deadsnakes/ppa/ubuntu bionic InRelease\n",
            "Hit:13 http://ppa.launchpad.net/graphics-drivers/ppa/ubuntu bionic InRelease\n",
            "Get:14 http://ppa.launchpad.net/c2d4u.team/c2d4u4.0+/ubuntu bionic/main Sources [2,155 kB]\n",
            "Fetched 2,171 kB in 4s (605 kB/s)\n",
            "Reading package lists... Done\n"
          ]
        }
      ],
      "source": [
        "import os\n",
        "\n",
        "spark_version = 'spark-3.3.0'\n",
        "os.environ['SPARK_VERSION']=spark_version\n",
        "\n",
        "# Install Spark and Java\n",
        "!apt-get update\n",
        "!apt-get install openjdk-11-jdk-headless -qq > /dev/null\n",
        "!wget -q http://www.apache.org/dist/spark/$SPARK_VERSION/$SPARK_VERSION-bin-hadoop3.tgz\n",
        "!tar xf $SPARK_VERSION-bin-hadoop3.tgz\n",
        "!pip install -q findspark\n",
        "\n",
        "# Set Environment Variables\n",
        "import os\n",
        "os.environ[\"JAVA_HOME\"] = \"/usr/lib/jvm/java-11-openjdk-amd64\"\n",
        "os.environ[\"SPARK_HOME\"] = f\"/content/{spark_version}-bin-hadoop3\"\n",
        "\n",
        "# Start a SparkSession\n",
        "import findspark\n",
        "findspark.init()"
      ]
    },
    {
      "cell_type": "code",
      "source": [
        "from pyspark.sql import SparkSession\n",
        "spark = SparkSession.builder.appName(\"M16-Amazon-Challenge\").config(\"spark.driver.extraClassPath\",\"/content/postgresql-42.2.16.jar\").getOrCreate()"
      ],
      "metadata": {
        "id": "ON9vi0tENXQ5"
      },
      "execution_count": 3,
      "outputs": []
    },
    {
      "cell_type": "code",
      "source": [
        "# Read in user data from S3 Buckets\n",
        "from pyspark import SparkFiles\n",
        "url =\"https://thegreatkeejvine.s3.us-west-2.amazonaws.com/vine.csv\"\n",
        "spark.sparkContext.addFile(url)\n",
        "df = spark.read.csv(SparkFiles.get(\"vine.csv\"), sep=\",\", header=True)\n",
        "\n",
        "# Show DataFrame\n",
        "df.show(10)"
      ],
      "metadata": {
        "colab": {
          "base_uri": "https://localhost:8080/"
        },
        "id": "2kMQ7Knjbs-t",
        "outputId": "9375c390-91fe-4f10-a92c-c82821c421f2"
      },
      "execution_count": 4,
      "outputs": [
        {
          "output_type": "stream",
          "name": "stdout",
          "text": [
            "+--------------+-----------+-------------+-----------+----+-----------------+\n",
            "|     review_id|star_rating|helpful_votes|total_votes|vine|verified_purchase|\n",
            "+--------------+-----------+-------------+-----------+----+-----------------+\n",
            "|R2UM5QMHBHC90Q|          5|            0|          0|   N|                Y|\n",
            "|  RF0D1LEIF6L7|          4|            0|          0|   N|                Y|\n",
            "|  RM6YKIWQVNSY|          1|            6|          6|   N|                Y|\n",
            "|R1RL3L68ASPS36|          4|            0|          0|   N|                Y|\n",
            "|R1U4XFBFAG34CY|          5|            0|          0|   N|                Y|\n",
            "|R3KFIK8P0I91PL|          5|            0|          0|   N|                Y|\n",
            "| RENOAY76PPK1O|          5|            0|          0|   N|                Y|\n",
            "| RINV884I0NL5V|          1|            0|          0|   N|                Y|\n",
            "| R5KJH6CXZH2PX|          5|            0|          0|   N|                Y|\n",
            "| RO69JF6QWD0W1|          5|            0|          0|   N|                Y|\n",
            "+--------------+-----------+-------------+-----------+----+-----------------+\n",
            "only showing top 10 rows\n",
            "\n"
          ]
        }
      ]
    },
    {
      "cell_type": "code",
      "source": [
        "# Filter the data and create a new DataFrame where total_votes >= 20\n",
        "vine_df = df.filter(\"total_votes>=20\").select(['review_id', 'star_rating', 'helpful_votes', 'total_votes', 'vine', 'verified_purchase'])\n",
        "vine_df.show(10)"
      ],
      "metadata": {
        "colab": {
          "base_uri": "https://localhost:8080/"
        },
        "id": "gqP4FppNNXaH",
        "outputId": "d9cfd290-6a8f-4ebc-d3f2-afd729d00bc9"
      },
      "execution_count": 9,
      "outputs": [
        {
          "output_type": "stream",
          "name": "stdout",
          "text": [
            "+--------------+-----------+-------------+-----------+----+-----------------+\n",
            "|     review_id|star_rating|helpful_votes|total_votes|vine|verified_purchase|\n",
            "+--------------+-----------+-------------+-----------+----+-----------------+\n",
            "| RXAHWIC1584UQ|          5|           20|         23|   N|                Y|\n",
            "| RSBELAIC899DO|          5|           46|         51|   N|                Y|\n",
            "|R2HCC4CJ59D225|          4|           43|         43|   N|                Y|\n",
            "|R39BVCCVPRV6F5|          5|           10|         22|   N|                Y|\n",
            "| RL9VF9WXHEHKR|          5|           35|         36|   N|                Y|\n",
            "|R1ZINLWUOLTZ46|          1|           39|         45|   N|                N|\n",
            "|R1CQKM1K1CHOHS|          1|           21|         22|   N|                N|\n",
            "|R1ZG19X1NOLCRF|          5|            5|         21|   N|                Y|\n",
            "|R1YOX5Z4GF3ZSW|          1|            1|         22|   N|                Y|\n",
            "| R2DHAM7J1KMWN|          5|           23|         24|   N|                N|\n",
            "+--------------+-----------+-------------+-----------+----+-----------------+\n",
            "only showing top 10 rows\n",
            "\n"
          ]
        }
      ]
    },
    {
      "cell_type": "code",
      "source": [
        "Tvine_df = vine_df.filter(\"helpful_votes/total_votes>=.5\").select(['review_id', 'star_rating', 'helpful_votes', 'total_votes', 'vine', 'verified_purchase'])\n",
        "Tvine_df.show(10)"
      ],
      "metadata": {
        "colab": {
          "base_uri": "https://localhost:8080/"
        },
        "id": "ziS_RR_Gvv7r",
        "outputId": "663e36c1-746c-412e-c2af-1b953426f383"
      },
      "execution_count": 10,
      "outputs": [
        {
          "output_type": "stream",
          "name": "stdout",
          "text": [
            "+--------------+-----------+-------------+-----------+----+-----------------+\n",
            "|     review_id|star_rating|helpful_votes|total_votes|vine|verified_purchase|\n",
            "+--------------+-----------+-------------+-----------+----+-----------------+\n",
            "| RXAHWIC1584UQ|          5|           20|         23|   N|                Y|\n",
            "| RSBELAIC899DO|          5|           46|         51|   N|                Y|\n",
            "|R2HCC4CJ59D225|          4|           43|         43|   N|                Y|\n",
            "| RL9VF9WXHEHKR|          5|           35|         36|   N|                Y|\n",
            "|R1ZINLWUOLTZ46|          1|           39|         45|   N|                N|\n",
            "|R1CQKM1K1CHOHS|          1|           21|         22|   N|                N|\n",
            "| R2DHAM7J1KMWN|          5|           23|         24|   N|                N|\n",
            "|R26EZ2INBETPU2|          1|          103|        128|   N|                N|\n",
            "|R265ZMDO2ISN1O|          5|           20|         21|   N|                Y|\n",
            "|R3NZ7JTOCPYE1S|          4|           32|         33|   N|                Y|\n",
            "+--------------+-----------+-------------+-----------+----+-----------------+\n",
            "only showing top 10 rows\n",
            "\n"
          ]
        }
      ]
    },
    {
      "cell_type": "code",
      "source": [
        "vineYES_df = Tvine_df.filter(\"vine== 'Y'\").select(['review_id', 'star_rating', 'helpful_votes', 'total_votes', 'vine', 'verified_purchase'])\n",
        "vineYES_df.show(10)"
      ],
      "metadata": {
        "colab": {
          "base_uri": "https://localhost:8080/"
        },
        "id": "qLhylePfxqjU",
        "outputId": "ee9a1ec0-aadc-4dbb-d68b-c73d34114bfa"
      },
      "execution_count": 13,
      "outputs": [
        {
          "output_type": "stream",
          "name": "stdout",
          "text": [
            "+--------------+-----------+-------------+-----------+----+-----------------+\n",
            "|     review_id|star_rating|helpful_votes|total_votes|vine|verified_purchase|\n",
            "+--------------+-----------+-------------+-----------+----+-----------------+\n",
            "|R3QIQRG107AP19|          5|           38|         41|   Y|                N|\n",
            "|R1ZNBHGCYE8VN1|          5|          175|        181|   Y|                N|\n",
            "|R1BNZJ9IKGRBC2|          4|           63|         70|   Y|                N|\n",
            "|R2IXTN4PBRHBO2|          5|           19|         24|   Y|                N|\n",
            "|R32AOW3L09SYMQ|          5|           29|         34|   Y|                N|\n",
            "|R34Z4VTLF7PC6X|          4|           33|         36|   Y|                N|\n",
            "|R25403NE9JCRZZ|          2|           36|         40|   Y|                N|\n",
            "|R2QT2G3YRGC0PS|          5|           18|         20|   Y|                N|\n",
            "| RDUP15OURNUSA|          5|           22|         23|   Y|                N|\n",
            "|R1EI4NZTG7G14F|          5|           17|         23|   Y|                N|\n",
            "+--------------+-----------+-------------+-----------+----+-----------------+\n",
            "only showing top 10 rows\n",
            "\n"
          ]
        }
      ]
    },
    {
      "cell_type": "code",
      "source": [
        "vineNO_df = Tvine_df.filter(\"vine== 'N'\").select(['review_id', 'star_rating', 'helpful_votes', 'total_votes', 'vine', 'verified_purchase'])\n",
        "vineNO_df.show(10)"
      ],
      "metadata": {
        "colab": {
          "base_uri": "https://localhost:8080/"
        },
        "id": "Y3IiB6Y_y0ka",
        "outputId": "bab61918-5255-459b-d524-eb81660dff2f"
      },
      "execution_count": 15,
      "outputs": [
        {
          "output_type": "stream",
          "name": "stdout",
          "text": [
            "+--------------+-----------+-------------+-----------+----+-----------------+\n",
            "|     review_id|star_rating|helpful_votes|total_votes|vine|verified_purchase|\n",
            "+--------------+-----------+-------------+-----------+----+-----------------+\n",
            "| RXAHWIC1584UQ|          5|           20|         23|   N|                Y|\n",
            "| RSBELAIC899DO|          5|           46|         51|   N|                Y|\n",
            "|R2HCC4CJ59D225|          4|           43|         43|   N|                Y|\n",
            "| RL9VF9WXHEHKR|          5|           35|         36|   N|                Y|\n",
            "|R1ZINLWUOLTZ46|          1|           39|         45|   N|                N|\n",
            "|R1CQKM1K1CHOHS|          1|           21|         22|   N|                N|\n",
            "| R2DHAM7J1KMWN|          5|           23|         24|   N|                N|\n",
            "|R26EZ2INBETPU2|          1|          103|        128|   N|                N|\n",
            "|R265ZMDO2ISN1O|          5|           20|         21|   N|                Y|\n",
            "|R3NZ7JTOCPYE1S|          4|           32|         33|   N|                Y|\n",
            "+--------------+-----------+-------------+-----------+----+-----------------+\n",
            "only showing top 10 rows\n",
            "\n"
          ]
        }
      ]
    },
    {
      "cell_type": "code",
      "source": [
        "reviews = df.count()\n",
        "print(f\"The total number of reviews : {reviews}\")\n"
      ],
      "metadata": {
        "colab": {
          "base_uri": "https://localhost:8080/"
        },
        "id": "78d4f2EBz7lj",
        "outputId": "a27cc966-5894-4a03-b898-63b7163a4eaa"
      },
      "execution_count": 35,
      "outputs": [
        {
          "output_type": "stream",
          "name": "stdout",
          "text": [
            "The total number of reviews : 1741100\n"
          ]
        }
      ]
    },
    {
      "cell_type": "code",
      "source": [
        "ratings = df.filter(\"star_rating==5\").count()\n",
        "print(f\"The total number of 5-star ratings : {ratings}\")"
      ],
      "metadata": {
        "colab": {
          "base_uri": "https://localhost:8080/"
        },
        "id": "ZjATwjDh4O3r",
        "outputId": "cb2b6276-4b4c-4a0e-e2c3-19aeb27a9af8"
      },
      "execution_count": 36,
      "outputs": [
        {
          "output_type": "stream",
          "name": "stdout",
          "text": [
            "The total number of 5-star ratings : 1113563\n"
          ]
        }
      ]
    },
    {
      "cell_type": "code",
      "source": [
        "ratingsPaid = vineYES_df.filter(\"star_rating==5\").count()\n",
        "print(f\"The total number of Paid 5-star ratings : {ratingsPaid}\")"
      ],
      "metadata": {
        "colab": {
          "base_uri": "https://localhost:8080/"
        },
        "id": "hWErOEFE47bx",
        "outputId": "8780bb84-a432-49db-ff1f-f5a2a93751d6"
      },
      "execution_count": 37,
      "outputs": [
        {
          "output_type": "stream",
          "name": "stdout",
          "text": [
            "The total number of Paid 5-star ratings : 163\n"
          ]
        }
      ]
    },
    {
      "cell_type": "code",
      "source": [
        "ratingsUnPaid = vineNO_df.filter(\"star_rating==5\").count()\n",
        "print(f\"The total number of Unpaid 5-star ratings : {ratingsUnPaid}\")"
      ],
      "metadata": {
        "colab": {
          "base_uri": "https://localhost:8080/"
        },
        "id": "SZcTgqXE5sP1",
        "outputId": "1e985e42-2d93-472f-f260-73dfbd28c5a7"
      },
      "execution_count": 38,
      "outputs": [
        {
          "output_type": "stream",
          "name": "stdout",
          "text": [
            "The total number of Unpaid 5-star ratings : 14614\n"
          ]
        }
      ]
    },
    {
      "cell_type": "code",
      "source": [
        "percentagePaid = (ratingsPaid/ratings)*100\n",
        "print(f\"The percentage of paid ratings : {percentagePaid}%\")"
      ],
      "metadata": {
        "colab": {
          "base_uri": "https://localhost:8080/"
        },
        "id": "9QJMlbS96p_F",
        "outputId": "9a6699f6-8cc6-48fb-8ce8-eae251969df6"
      },
      "execution_count": 40,
      "outputs": [
        {
          "output_type": "stream",
          "name": "stdout",
          "text": [
            "The percentage of paid ratings : 0.014637698989639562%\n"
          ]
        }
      ]
    },
    {
      "cell_type": "code",
      "source": [
        "percentageUnPaid = (ratingsUnPaid/ratings)*100\n",
        "print(f\"The percentage of unpaid ratings : {percentageUnPaid}%\")"
      ],
      "metadata": {
        "colab": {
          "base_uri": "https://localhost:8080/"
        },
        "id": "XKYrm0186qEd",
        "outputId": "9511e1d4-8362-4e7d-922b-8a611dd902a1"
      },
      "execution_count": 41,
      "outputs": [
        {
          "output_type": "stream",
          "name": "stdout",
          "text": [
            "The percentage of unpaid ratings : 1.3123640063471937%\n"
          ]
        }
      ]
    }
  ]
}